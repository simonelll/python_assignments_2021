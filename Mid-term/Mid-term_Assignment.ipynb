{
 "cells": [
  {
   "cell_type": "markdown",
   "metadata": {},
   "source": [
    "# A smart Chatbot that always replys with pick-up lines ('土味情话')"
   ]
  },
  {
   "cell_type": "code",
   "execution_count": null,
   "metadata": {},
   "outputs": [],
   "source": [
    "install requests\n",
    "install Beautifulsoup4\n",
    "\n",
    "find an english romance novel website\n",
    "see if there's an API\n",
    "check into its HTML/CSS to find which tag to grab\n",
    "input the website\n",
    "decode the website\n",
    "search for the tag in the website\n",
    "scrape the content\n",
    "arrange the data\n",
    "download them into an excel on the local computer\n",
    "\n",
    "install chatterbot library\n",
    "import chatterbot library\n",
    "\n",
    "name the chatbot\n",
    "use adapter to select the language for the chatbot, take english for example.\n",
    "train the chatbot with the english dataset that's already retrieved\n",
    "\n",
    "input messages\n",
    "print chatbox response"
   ]
  },
  {
   "cell_type": "code",
   "execution_count": null,
   "metadata": {},
   "outputs": [],
   "source": []
  }
 ],
 "metadata": {
  "kernelspec": {
   "display_name": "Python 3",
   "language": "python",
   "name": "python3"
  },
  "language_info": {
   "codemirror_mode": {
    "name": "ipython",
    "version": 3
   },
   "file_extension": ".py",
   "mimetype": "text/x-python",
   "name": "python",
   "nbconvert_exporter": "python",
   "pygments_lexer": "ipython3",
   "version": "3.7.1"
  }
 },
 "nbformat": 4,
 "nbformat_minor": 2
}
