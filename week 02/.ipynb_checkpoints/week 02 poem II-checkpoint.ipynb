{
 "cells": [
  {
   "cell_type": "code",
   "execution_count": 7,
   "metadata": {},
   "outputs": [],
   "source": [
    "title = 'The age demanded'\n",
    "author = 'Ernest Hemingway'\n",
    "\n",
    "def writeApoem():\n",
    " \n",
    "    print(title.upper())\n",
    "    print('\\n')\n",
    "    print(author.upper())\n",
    "    print('\\n')\n",
    "\n",
    "    print(f'{title} that we sing')\n",
    "    print('And cut away our tongue.')\n",
    "    print('\\n')\n",
    "    print(f'{title} that we flow')\n",
    "    print('And hammered in the bung.')\n",
    "    print('\\n')\n",
    "    print(f'{title} that we dance')\n",
    "    print('And jammed us into iron pants.')\n",
    "    print('\\n')\n",
    "    print('And in the end the age was handed')\n",
    "    print('The sort of shit that it demanded.')"
   ]
  },
  {
   "cell_type": "code",
   "execution_count": 8,
   "metadata": {},
   "outputs": [
    {
     "name": "stdout",
     "output_type": "stream",
     "text": [
      "THE AGE DEMANDED\n",
      "\n",
      "\n",
      "ERNEST HEMINGWAY\n",
      "\n",
      "\n",
      "The age demanded that we sing\n",
      "And cut away our tongue.\n",
      "\n",
      "\n",
      "The age demanded that we flow\n",
      "And hammered in the bung.\n",
      "\n",
      "\n",
      "The age demanded that we dance\n",
      "And jammed us into iron pants.\n",
      "\n",
      "\n",
      "And in the end the age was handed\n",
      "The sort of shit that it demanded.\n"
     ]
    }
   ],
   "source": [
    "writeApoem()"
   ]
  },
  {
   "cell_type": "code",
   "execution_count": null,
   "metadata": {},
   "outputs": [],
   "source": []
  }
 ],
 "metadata": {
  "kernelspec": {
   "display_name": "Python 3",
   "language": "python",
   "name": "python3"
  },
  "language_info": {
   "codemirror_mode": {
    "name": "ipython",
    "version": 3
   },
   "file_extension": ".py",
   "mimetype": "text/x-python",
   "name": "python",
   "nbconvert_exporter": "python",
   "pygments_lexer": "ipython3",
   "version": "3.7.1"
  }
 },
 "nbformat": 4,
 "nbformat_minor": 2
}
