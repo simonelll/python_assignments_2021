{
 "cells": [
  {
   "cell_type": "code",
   "execution_count": null,
   "metadata": {},
   "outputs": [],
   "source": [
    "life = { \"top1\": ,\n",
    "         \"top2\": ,\n",
    "         \"top3\":  }\n",
    "\n",
    "rank_importance_in_life = [bravery, cleverness, praise, fortune, love, environment, family, power]\n",
    "possession = 10\n",
    "\n",
    "def live(){\n",
    "    \n",
    "    if possession > 3:\n",
    "        possession --;\n",
    "    print('You want too much. Your life is in a mess.')\n",
    "    else:\n",
    "        life[\"top1\"] = rank_beauty_in_life[0]\n",
    "        life[\"top2\"] = rank_beauty_in_life[1]\n",
    "        life[\"top3\"] = rank_beauty_in_life[2]\n",
    "    print('You will have ') + life[0] + \",\" + life[1] + \",\" + life[2] + \" in life.\"\n",
    "}\n",
    "\n"
   ]
  }
 ],
 "metadata": {
  "kernelspec": {
   "display_name": "Python 3",
   "language": "python",
   "name": "python3"
  },
  "language_info": {
   "codemirror_mode": {
    "name": "ipython",
    "version": 3
   },
   "file_extension": ".py",
   "mimetype": "text/x-python",
   "name": "python",
   "nbconvert_exporter": "python",
   "pygments_lexer": "ipython3",
   "version": "3.7.1"
  }
 },
 "nbformat": 4,
 "nbformat_minor": 2
}
